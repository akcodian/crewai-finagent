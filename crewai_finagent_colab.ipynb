{
  "cells": [
    {
      "cell_type": "code",
      "execution_count": null,
      "metadata": {
        "id": "Yj2mcZFzL5Tb"
      },
      "outputs": [],
      "source": [
        "!git clone https://github.com/akcodian/crewai-finagent.git"
      ]
    },
    {
      "cell_type": "code",
      "execution_count": null,
      "metadata": {
        "id": "bo5Rvv6xM0IF"
      },
      "outputs": [],
      "source": [
        "!pip install crewai openai"
      ]
    },
    {
      "cell_type": "code",
      "execution_count": null,
      "metadata": {
        "id": "lgZRSPfNNHNh"
      },
      "outputs": [],
      "source": [
        "!pip install git+https://github.com/joaomdmoura/crewai-tools.git"
      ]
    },
    {
      "cell_type": "code",
      "execution_count": null,
      "metadata": {
        "id": "8-7bfqTI42JO"
      },
      "outputs": [],
      "source": [
        "import os\n",
        "import getpass\n",
        "\n",
        "os.environ[\"OPENAI_API_KEY\"] = getpass.getpass(\"Enter your OpenAI API Key: \")\n",
        "os.environ[\"FMP_API_KEY\"] = getpass.getpass(\"Enter your FPM API Key: \")\n",
        "\n",
        "print(\"API Keys securely set!\")"
      ]
    },
    {
      "cell_type": "code",
      "source": [
        "%cd src"
      ],
      "metadata": {
        "id": "jjs2UPNQ7Xjm"
      },
      "execution_count": null,
      "outputs": []
    },
    {
      "cell_type": "code",
      "execution_count": null,
      "metadata": {
        "id": "veH8Tv44OLZx"
      },
      "outputs": [],
      "source": [
        "!python main.py"
      ]
    }
  ],
  "metadata": {
    "colab": {
      "provenance": [],
      "authorship_tag": "ABX9TyNXa7NdKPOTQTn71bismuiQ"
    },
    "kernelspec": {
      "display_name": "Python 3",
      "name": "python3"
    },
    "language_info": {
      "name": "python"
    }
  },
  "nbformat": 4,
  "nbformat_minor": 0
}